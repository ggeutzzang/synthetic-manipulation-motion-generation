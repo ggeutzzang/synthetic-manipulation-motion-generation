{
 "cells": [
  {
   "cell_type": "code",
   "execution_count": 1,
   "metadata": {},
   "outputs": [
    {
     "name": "stdout",
     "output_type": "stream",
     "text": [
      "hello\n"
     ]
    }
   ],
   "source": [
    "print(\"hello\")"
   ]
  },
  {
   "cell_type": "code",
   "execution_count": 2,
   "metadata": {},
   "outputs": [
    {
     "name": "stdout",
     "output_type": "stream",
     "text": [
      "Help on class ArgumentParser in module argparse:\n",
      "\n",
      "class ArgumentParser(_AttributeHolder, _ActionsContainer)\n",
      " |  ArgumentParser(prog=None, usage=None, description=None, epilog=None, parents=[], formatter_class=<class 'argparse.HelpFormatter'>, prefix_chars='-', fromfile_prefix_chars=None, argument_default=None, conflict_handler='error', add_help=True, allow_abbrev=True, exit_on_error=True)\n",
      " |  \n",
      " |  Object for parsing command line strings into Python objects.\n",
      " |  \n",
      " |  Keyword Arguments:\n",
      " |      - prog -- The name of the program (default:\n",
      " |          ``os.path.basename(sys.argv[0])``)\n",
      " |      - usage -- A usage message (default: auto-generated from arguments)\n",
      " |      - description -- A description of what the program does\n",
      " |      - epilog -- Text following the argument descriptions\n",
      " |      - parents -- Parsers whose arguments should be copied into this one\n",
      " |      - formatter_class -- HelpFormatter class for printing help messages\n",
      " |      - prefix_chars -- Characters that prefix optional arguments\n",
      " |      - fromfile_prefix_chars -- Characters that prefix files containing\n",
      " |          additional arguments\n",
      " |      - argument_default -- The default value for all arguments\n",
      " |      - conflict_handler -- String indicating how to handle conflicts\n",
      " |      - add_help -- Add a -h/-help option\n",
      " |      - allow_abbrev -- Allow long options to be abbreviated unambiguously\n",
      " |      - exit_on_error -- Determines whether or not ArgumentParser exits with\n",
      " |          error info when an error occurs\n",
      " |  \n",
      " |  Method resolution order:\n",
      " |      ArgumentParser\n",
      " |      _AttributeHolder\n",
      " |      _ActionsContainer\n",
      " |      builtins.object\n",
      " |  \n",
      " |  Methods defined here:\n",
      " |  \n",
      " |  __init__(self, prog=None, usage=None, description=None, epilog=None, parents=[], formatter_class=<class 'argparse.HelpFormatter'>, prefix_chars='-', fromfile_prefix_chars=None, argument_default=None, conflict_handler='error', add_help=True, allow_abbrev=True, exit_on_error=True)\n",
      " |      Initialize self.  See help(type(self)) for accurate signature.\n",
      " |  \n",
      " |  add_subparsers(self, **kwargs)\n",
      " |      # ==================================\n",
      " |      # Optional/Positional adding methods\n",
      " |      # ==================================\n",
      " |  \n",
      " |  convert_arg_line_to_args(self, arg_line)\n",
      " |  \n",
      " |  error(self, message)\n",
      " |      error(message: string)\n",
      " |      \n",
      " |      Prints a usage message incorporating the message to stderr and\n",
      " |      exits.\n",
      " |      \n",
      " |      If you override this in a subclass, it should not return -- it\n",
      " |      should either exit or raise an exception.\n",
      " |  \n",
      " |  exit(self, status=0, message=None)\n",
      " |      # ===============\n",
      " |      # Exiting methods\n",
      " |      # ===============\n",
      " |  \n",
      " |  format_help(self)\n",
      " |  \n",
      " |  format_usage(self)\n",
      " |      # =======================\n",
      " |      # Help-formatting methods\n",
      " |      # =======================\n",
      " |  \n",
      " |  parse_args(self, args=None, namespace=None)\n",
      " |      # =====================================\n",
      " |      # Command line argument parsing methods\n",
      " |      # =====================================\n",
      " |  \n",
      " |  parse_intermixed_args(self, args=None, namespace=None)\n",
      " |  \n",
      " |  parse_known_args(self, args=None, namespace=None)\n",
      " |  \n",
      " |  parse_known_intermixed_args(self, args=None, namespace=None)\n",
      " |  \n",
      " |  print_help(self, file=None)\n",
      " |  \n",
      " |  print_usage(self, file=None)\n",
      " |      # =====================\n",
      " |      # Help-printing methods\n",
      " |      # =====================\n",
      " |  \n",
      " |  ----------------------------------------------------------------------\n",
      " |  Methods inherited from _AttributeHolder:\n",
      " |  \n",
      " |  __repr__(self)\n",
      " |      Return repr(self).\n",
      " |  \n",
      " |  ----------------------------------------------------------------------\n",
      " |  Data descriptors inherited from _AttributeHolder:\n",
      " |  \n",
      " |  __dict__\n",
      " |      dictionary for instance variables\n",
      " |  \n",
      " |  __weakref__\n",
      " |      list of weak references to the object\n",
      " |  \n",
      " |  ----------------------------------------------------------------------\n",
      " |  Methods inherited from _ActionsContainer:\n",
      " |  \n",
      " |  add_argument(self, *args, **kwargs)\n",
      " |      add_argument(dest, ..., name=value, ...)\n",
      " |      add_argument(option_string, option_string, ..., name=value, ...)\n",
      " |  \n",
      " |  add_argument_group(self, *args, **kwargs)\n",
      " |  \n",
      " |  add_mutually_exclusive_group(self, **kwargs)\n",
      " |  \n",
      " |  get_default(self, dest)\n",
      " |  \n",
      " |  register(self, registry_name, value, object)\n",
      " |      # ====================\n",
      " |      # Registration methods\n",
      " |      # ====================\n",
      " |  \n",
      " |  set_defaults(self, **kwargs)\n",
      " |      # ==================================\n",
      " |      # Namespace default accessor methods\n",
      " |      # ==================================\n",
      "\n"
     ]
    }
   ],
   "source": [
    "import argparse\n",
    "\n",
    "help(argparse.ArgumentParser)"
   ]
  },
  {
   "cell_type": "code",
   "execution_count": 7,
   "metadata": {},
   "outputs": [
    {
     "name": "stdout",
     "output_type": "stream",
     "text": [
      "이름: 홍길동, 나이: 20\n"
     ]
    }
   ],
   "source": [
    "import argparse\n",
    "\n",
    "parser = argparse.ArgumentParser(description=\"프로그램 설명\")\n",
    "parser.add_argument(\"--name\", help=\"이름을 입력하세요\")\n",
    "parser.add_argument(\"--age\", type=int, help=\"나이를 입력하세요\")\n",
    "\n",
    "args = parser.parse_args([])\n",
    "print(f\"이름: {args.name}, 나이: {args.age}\")"
   ]
  },
  {
   "cell_type": "code",
   "execution_count": 8,
   "metadata": {},
   "outputs": [
    {
     "name": "stdout",
     "output_type": "stream",
     "text": [
      "=== 간단한 ArgumentParser 동작 구조 ===\n",
      "1. 기본값: Namespace(name='무명', age=20)\n",
      "2. 수동 변경: Namespace(name='홍길동', age=20, new_field='새로운 속성')\n",
      "3. 딕셔너리 병합: {'name': '홍길동', 'age': 30, 'new_field': '새로운 속성', 'job': '개발자'}\n",
      "4. 최종 결과: Namespace(name='홍길동', age=30, new_field='새로운 속성', job='개발자')\n",
      "   이름: 홍길동, 나이: 30, 직업: 개발자\n"
     ]
    }
   ],
   "source": [
    "import argparse\n",
    "from argparse import Namespace\n",
    "\n",
    "print(\"=== 간단한 ArgumentParser 동작 구조 ===\")\n",
    "\n",
    "# 1단계: 기본 파서 생성\n",
    "parser = argparse.ArgumentParser()\n",
    "parser.add_argument(\"--name\", default=\"무명\")\n",
    "parser.add_argument(\"--age\", type=int, default=20)\n",
    "\n",
    "# 2단계: 빈 리스트로 파싱 (핵심!)\n",
    "args = parser.parse_args([])  # Jupyter에서 에러 안남\n",
    "print(f\"1. 기본값: {args}\")\n",
    "\n",
    "# 3단계: 속성 수동 변경\n",
    "args.name = \"홍길동\"\n",
    "args.new_field = \"새로운 속성\"  # 새 속성도 추가 가능\n",
    "print(f\"2. 수동 변경: {args}\")\n",
    "\n",
    "# 4단계: 딕셔너리로 변환 & 병합\n",
    "args_dict = vars(args)  # Namespace → 딕셔너리\n",
    "extra_config = {\"job\": \"개발자\", \"age\": 30}  # 추가 설정\n",
    "args_dict.update(extra_config)  # 병합\n",
    "print(f\"3. 딕셔너리 병합: {args_dict}\")\n",
    "\n",
    "# 5단계: 다시 Namespace로 변환\n",
    "final_args = Namespace(**args_dict)  # 딕셔너리 → Namespace\n",
    "print(f\"4. 최종 결과: {final_args}\")\n",
    "print(f\"   이름: {final_args.name}, 나이: {final_args.age}, 직업: {final_args.job}\")"
   ]
  },
  {
   "cell_type": "markdown",
   "metadata": {},
   "source": []
  }
 ],
 "metadata": {
  "kernelspec": {
   "display_name": "Python 3",
   "language": "python",
   "name": "python3"
  },
  "language_info": {
   "codemirror_mode": {
    "name": "ipython",
    "version": 3
   },
   "file_extension": ".py",
   "mimetype": "text/x-python",
   "name": "python",
   "nbconvert_exporter": "python",
   "pygments_lexer": "ipython3",
   "version": "3.11.9"
  }
 },
 "nbformat": 4,
 "nbformat_minor": 2
}
